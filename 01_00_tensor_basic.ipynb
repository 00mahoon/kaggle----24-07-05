{
  "nbformat": 4,
  "nbformat_minor": 0,
  "metadata": {
    "colab": {
      "provenance": []
    },
    "kernelspec": {
      "name": "python3",
      "display_name": "Python 3"
    },
    "language_info": {
      "name": "python"
    }
  },
  "cells": [
    {
      "cell_type": "code",
      "execution_count": 1,
      "metadata": {
        "id": "13AF6kCJG414"
      },
      "outputs": [],
      "source": [
        "import tensorflow as tf"
      ]
    },
    {
      "cell_type": "code",
      "source": [
        "print(tf.__version__)"
      ],
      "metadata": {
        "id": "UhLj0Cs9G7Rl",
        "outputId": "0cffeae1-6aba-4e34-83ba-22d69f4afbcc",
        "colab": {
          "base_uri": "https://localhost:8080/"
        }
      },
      "execution_count": null,
      "outputs": [
        {
          "output_type": "stream",
          "name": "stdout",
          "text": [
            "2.15.0\n"
          ]
        }
      ]
    },
    {
      "cell_type": "code",
      "source": [
        "### 작성해주세요\n",
        "### tf를 통해 변수를 선언하고 ((4*2)-(1+2)) - 5 연산\n",
        "\n",
        "# 상수 선언하기\n",
        "x1 = tf.constant(1)\n",
        "x2 = tf.constant(2)\n",
        "x3 = tf.constant(4)\n",
        "x4 = tf.constant(5)\n",
        "\n",
        "# 연산\n",
        "result1 = tf.subtract(tf.multiply(x3, x2), tf.add(x1, x2))\n",
        "result = tf.subtract(result1, x4)\n",
        "# 출력\n",
        "print(\"result = {}\".format(result))\n"
      ],
      "metadata": {
        "id": "VqUy3AFfG8mf",
        "colab": {
          "base_uri": "https://localhost:8080/"
        },
        "outputId": "471a6224-b1d4-4437-932e-019700ef0735"
      },
      "execution_count": 7,
      "outputs": [
        {
          "output_type": "stream",
          "name": "stdout",
          "text": [
            "result = 0\n"
          ]
        }
      ]
    },
    {
      "cell_type": "code",
      "source": [],
      "metadata": {
        "id": "3hMVM3V7J82y"
      },
      "execution_count": null,
      "outputs": []
    }
  ]
}